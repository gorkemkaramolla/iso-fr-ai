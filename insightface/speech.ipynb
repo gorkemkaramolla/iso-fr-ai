{
 "cells": [
  {
   "cell_type": "code",
   "execution_count": null,
   "metadata": {},
   "outputs": [],
   "source": [
    "import whisper\n",
    "import ssl\n",
    "import urllib.request\n",
    "\n",
    "# Create an unverified context\n",
    "ssl._create_default_https_context = ssl._create_unverified_context\n",
    "\n",
    "# Now you can call your function that uses urllib\n",
    "model = whisper.load_model(\"base\")\n",
    "result = model.transcribe(\"output 2.wav\", language=\"tr\", fp16=False, verbose=True)\n",
    "print(f' The text in video: \\n {result[\"text\"]}')"
   ]
  }
 ],
 "metadata": {
  "kernelspec": {
   "display_name": "isoteam",
   "language": "python",
   "name": "python3"
  },
  "language_info": {
   "codemirror_mode": {
    "name": "ipython",
    "version": 3
   },
   "file_extension": ".py",
   "mimetype": "text/x-python",
   "name": "python",
   "nbconvert_exporter": "python",
   "pygments_lexer": "ipython3",
   "version": "3.9.13"
  }
 },
 "nbformat": 4,
 "nbformat_minor": 2
}
